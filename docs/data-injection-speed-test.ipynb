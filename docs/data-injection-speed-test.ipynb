{
 "cells": [
  {
   "cell_type": "markdown",
   "id": "cfd6fc8e",
   "metadata": {},
   "source": [
    "# Data Injection Speed Test\n",
    "We know that supplying CSV text is the most optimal way to provide data to Vega, but are there significant performance benefits to injecting data into the specification namespace structure before text conversion or after?"
   ]
  },
  {
   "cell_type": "code",
   "execution_count": 1,
   "id": "fbe98310",
   "metadata": {},
   "outputs": [],
   "source": [
    "∇ Spec←{\n",
    "  s←0⎕JSON'{}'\n",
    "  s.opt1←'opt1'\n",
    "  s.sub←0⎕JSON'{}'\n",
    "  s.sub.opt1←'sub-opt1'\n",
    "  s.sub.opt2←'sub-opt2'\n",
    "  s\n",
    "}\n",
    "∇"
   ]
  },
  {
   "cell_type": "code",
   "execution_count": 2,
   "id": "db9ae574",
   "metadata": {},
   "outputs": [],
   "source": [
    "∇ Inject1←{\n",
    "  ⍺.data←0⎕JSON'{}'\n",
    "  ⍺.data.values←⍵ ⎕CSV '' 'S'\n",
    "  ⍺.data.format←0⎕JSON'{}'\n",
    "  ⍺.data.format.type←'csv'\n",
    "  ⍺\n",
    "}\n",
    "∇"
   ]
  },
  {
   "cell_type": "code",
   "execution_count": 3,
   "id": "4ad10dcd",
   "metadata": {},
   "outputs": [],
   "source": [
    "∇ Inject2←{\n",
    "  d←'\"data\": { \"values\": '\n",
    "  d,←1⎕JSON ⍵⎕CSV '' 'S'   ⍝ CSV text as JSON string\n",
    "  d,←', \"format\": { \"type\": \"csv\" }},'\n",
    "  (1↑⍺),d,(1↓⍺)\n",
    "}\n",
    "∇"
   ]
  },
  {
   "cell_type": "code",
   "execution_count": 4,
   "id": "847da905",
   "metadata": {},
   "outputs": [
    {
     "data": {
      "text/html": [
       "<pre class=\"language-APL\">┌────┬────┬─────────────┐\n",
       "│this│that│another      │\n",
       "├────┼────┼─────────────┤\n",
       "│HEDO│3   │0.00195337832│\n",
       "├────┼────┼─────────────┤\n",
       "│XTSQ│2   │0.3582407615 │\n",
       "└────┴────┴─────────────┘\n",
       "</pre>"
      ]
     },
     "execution_count": 4,
     "metadata": {},
     "output_type": "execute_result"
    }
   ],
   "source": [
    "⎕RL ← 42\n",
    "data←'this' 'that' 'another'⍪(↓⎕A[?5 4⍴26]),(?5⍴8),⍪?5⍴0\n",
    "3↑data"
   ]
  },
  {
   "cell_type": "code",
   "execution_count": 5,
   "id": "3a9bb865",
   "metadata": {},
   "outputs": [],
   "source": [
    "ViewJSON←{1(⎕JSON⎕OPT'Compact'0)⍵}"
   ]
  },
  {
   "cell_type": "code",
   "execution_count": 6,
   "id": "d36582a4",
   "metadata": {},
   "outputs": [],
   "source": [
    "s ← Spec 0\n",
    "st ← ViewJSON s"
   ]
  },
  {
   "cell_type": "code",
   "execution_count": 7,
   "id": "7b28153c",
   "metadata": {},
   "outputs": [
    {
     "data": {
      "text/html": [
       "<pre class=\"language-APL\">{\n",
       "  \"data\": {\n",
       "    \"format\": {\n",
       "      \"type\": \"csv\"\n",
       "    },\n",
       "    \"values\": \"this,that,another\\r\\nHEDO,3,0.001953378319754839\\r\\nXTSQ,2,0.3582407615265167\\r\\nTWHY,2,0.5741675835424208\\r\\nXROC,7,0.790488793142451\\r\\nJHSU,3,0.8759638375585851\\r\\n\"\n",
       "  },\n",
       "  \"opt1\": \"opt1\",\n",
       "  \"sub\": {\n",
       "    \"opt1\": \"sub-opt1\",\n",
       "    \"opt2\": \"sub-opt2\"\n",
       "  }\n",
       "}\n",
       "</pre>"
      ]
     },
     "execution_count": 7,
     "metadata": {},
     "output_type": "execute_result"
    }
   ],
   "source": [
    "ViewJSON s Inject1 data"
   ]
  },
  {
   "cell_type": "code",
   "execution_count": 8,
   "id": "3451e3ff",
   "metadata": {},
   "outputs": [
    {
     "data": {
      "text/html": [
       "<pre class=\"language-APL\">{\"data\": { \"values\": \"this,that,another\\r\\nHEDO,3,0.001953378319754839\\r\\nXTSQ,2,0.3582407615265167\\r\\nTWHY,2,0.5741675835424208\\r\\nXROC,7,0.790488793142451\\r\\nJHSU,3,0.8759638375585851\\r\\n\", \"format\": { \"type\": \"csv\" }},\n",
       "  \"opt1\": \"opt1\",\n",
       "  \"sub\": {\n",
       "    \"opt1\": \"sub-opt1\",\n",
       "    \"opt2\": \"sub-opt2\"\n",
       "  }\n",
       "}\n",
       "</pre>"
      ]
     },
     "execution_count": 8,
     "metadata": {},
     "output_type": "execute_result"
    }
   ],
   "source": [
    "st Inject2 data"
   ]
  },
  {
   "cell_type": "code",
   "execution_count": 9,
   "id": "279552a1",
   "metadata": {
    "scrolled": true
   },
   "outputs": [
    {
     "data": {
      "text/html": [
       "<pre class=\"language-APL\">1\n",
       "</pre>"
      ]
     },
     "execution_count": 9,
     "metadata": {},
     "output_type": "execute_result"
    }
   ],
   "source": [
    "s ≡⍥(1∘⎕json) 0⎕JSON st Inject2 data"
   ]
  },
  {
   "cell_type": "code",
   "execution_count": 10,
   "id": "d3d468c2",
   "metadata": {},
   "outputs": [
    {
     "data": {
      "text/html": [
       "<pre class=\"language-APL\">                                                                           \n",
       "  s Inject1 data  → 1.1E¯5 |   0% ⎕⎕⎕⎕⎕⎕⎕⎕⎕⎕⎕⎕⎕⎕⎕⎕⎕⎕⎕⎕⎕⎕⎕⎕⎕⎕⎕⎕⎕⎕⎕⎕⎕⎕⎕⎕⎕⎕⎕⎕ \n",
       "* st Inject2 data → 8.5E¯6 | -24% ⎕⎕⎕⎕⎕⎕⎕⎕⎕⎕⎕⎕⎕⎕⎕⎕⎕⎕⎕⎕⎕⎕⎕⎕⎕⎕⎕⎕⎕⎕⎕          \n",
       "</pre>"
      ]
     },
     "execution_count": 10,
     "metadata": {},
     "output_type": "execute_result"
    }
   ],
   "source": [
    "]runtime -c \"s Inject1 data\" \"st Inject2 data\""
   ]
  },
  {
   "cell_type": "markdown",
   "id": "657f6990",
   "metadata": {},
   "source": [
    "Cursory inspection suggests character vector manipulation is faster than namespace conversion. How does larger data table impact?"
   ]
  },
  {
   "cell_type": "code",
   "execution_count": 11,
   "id": "90de93c8",
   "metadata": {},
   "outputs": [
    {
     "data": {
      "text/html": [
       "<pre class=\"language-APL\">┌────┬────┬─────────────┐\n",
       "│this│that│another      │\n",
       "├────┼────┼─────────────┤\n",
       "│XJYJ│4   │0.00195337832│\n",
       "├────┼────┼─────────────┤\n",
       "│EBHB│2   │0.3582407615 │\n",
       "└────┴────┴─────────────┘\n",
       "</pre>"
      ]
     },
     "execution_count": 11,
     "metadata": {},
     "output_type": "execute_result"
    }
   ],
   "source": [
    "⎕RL ← 42\n",
    "n←50000\n",
    "data←'this' 'that' 'another'⍪(↓⎕A[?n 4⍴26]),(?n⍴8),⍪?n⍴0\n",
    "3↑data"
   ]
  },
  {
   "cell_type": "code",
   "execution_count": 12,
   "id": "83c910f2",
   "metadata": {},
   "outputs": [
    {
     "data": {
      "text/html": [
       "<pre class=\"language-APL\">                                                                           \n",
       "  s Inject1 data  → 2.5E¯2 |   0% ⎕⎕⎕⎕⎕⎕⎕⎕⎕⎕⎕⎕⎕⎕⎕⎕⎕⎕⎕⎕⎕⎕⎕⎕⎕⎕               \n",
       "* st Inject2 data → 3.8E¯2 | +52% ⎕⎕⎕⎕⎕⎕⎕⎕⎕⎕⎕⎕⎕⎕⎕⎕⎕⎕⎕⎕⎕⎕⎕⎕⎕⎕⎕⎕⎕⎕⎕⎕⎕⎕⎕⎕⎕⎕⎕⎕ \n",
       "</pre>"
      ]
     },
     "execution_count": 12,
     "metadata": {},
     "output_type": "execute_result"
    }
   ],
   "source": [
    "]runtime -c \"s Inject1 data\" \"st Inject2 data\""
   ]
  },
  {
   "cell_type": "markdown",
   "id": "c58cca3e",
   "metadata": {},
   "source": [
    "As data increases, it appears that string concatenation is worse than namespace conversion. This is probably because the assignment makes a reference to the CSV character vector array rather than copying it, whereas takes and drops are heavy copy operations"
   ]
  }
 ],
 "metadata": {
  "kernelspec": {
   "display_name": "Dyalog APL",
   "language": "apl",
   "name": "dyalog-kernel"
  },
  "language_info": {
   "file_extension": ".apl",
   "mimetype": "text/apl",
   "name": "APL"
  }
 },
 "nbformat": 4,
 "nbformat_minor": 5
}
